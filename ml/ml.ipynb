{
 "cells": [
  {
   "cell_type": "code",
   "execution_count": 48,
   "id": "c77c1f9a-2a9e-4c46-ae7f-002f215ff2f9",
   "metadata": {},
   "outputs": [],
   "source": [
    "import numpy as np\n",
    "import matplotlib.pyplot as plt\n",
    "import seaborn as sns\n",
    "from itertools import product\n",
    "import random\n",
    "import math\n",
    "import pickle\n",
    "from tqdm.notebook import tqdm_notebook\n",
    "import sys\n",
    "import torch\n",
    "import torch.nn as nn\n",
    "sys.path.append('../')\n",
    "import fn\n",
    "from addition_dataset import GroupAddition"
   ]
  },
  {
   "cell_type": "code",
   "execution_count": 2,
   "id": "46e1c632-414c-46b3-a7c1-bcdf9d06f54b",
   "metadata": {
    "tags": []
   },
   "outputs": [],
   "source": [
    "%load_ext autoreload\n",
    "%autoreload 2"
   ]
  },
  {
   "cell_type": "markdown",
   "id": "88edca88-f9c6-4f30-8d67-7d88ce206ac3",
   "metadata": {},
   "source": [
    "## Testing"
   ]
  },
  {
   "cell_type": "code",
   "execution_count": 180,
   "id": "b99bad01-213f-4b08-b678-b911dbcb5859",
   "metadata": {},
   "outputs": [],
   "source": [
    "# Specify base and carry table\n",
    "b = 4\n",
    "table = 1*(np.add.outer(np.arange(b),np.arange(b))>=b)"
   ]
  },
  {
   "cell_type": "code",
   "execution_count": 194,
   "id": "043215c9-e3d6-4787-b897-f68af193bbe3",
   "metadata": {},
   "outputs": [],
   "source": [
    "# Create dataset and dataloader\n",
    "num_passes = 10000\n",
    "dataset = GroupAddition(table, 2, ids=None, interleaved=True, digit_order='reversed')\n",
    "dataset = torch.utils.data.ConcatDataset([dataset] * num_passes)\n",
    "dataloader = torch.utils.data.DataLoader(dataset, batch_size=16, shuffle=True)"
   ]
  },
  {
   "cell_type": "code",
   "execution_count": 195,
   "id": "2044b98f-1d03-4eac-af03-b390ba005c1c",
   "metadata": {},
   "outputs": [],
   "source": [
    "# Define model\n",
    "class LSTMModel(nn.Module):\n",
    "    '''Simple LSTM model for testing purposes\n",
    "    '''\n",
    "    def __init__(self, input_size, hidden_size, num_layers, output_size):\n",
    "        '''Initialize model with specified parameters\n",
    "        '''\n",
    "        super().__init__()\n",
    "        self.hidden_size = hidden_size\n",
    "        self.num_layers = num_layers\n",
    "        self.lstm = nn.LSTM(input_size, hidden_size, num_layers, batch_first=True)\n",
    "        self.fc = nn.Linear(hidden_size, output_size)\n",
    "\n",
    "    def forward(self, X):\n",
    "        '''Return forward-pass including missing values of X\n",
    "        '''\n",
    "        # Initialize hidden state with zeros\n",
    "        h0 = torch.zeros(self.num_layers, X.size(0), self.hidden_size).to(X.device)\n",
    "        # Initialize cell state with zeros\n",
    "        c0 = torch.zeros(self.num_layers, X.size(0), self.hidden_size).to(X.device)\n",
    "        \n",
    "        # Forward propagate LSTM\n",
    "        out, _ = self.lstm(X, (h0, c0))  # out: tensor of shape (batch_size, seq_length, hidden_size)\n",
    "        \n",
    "        # Decode the hidden state of the last time step\n",
    "        out = self.fc(out[:, -1, :])\n",
    "        return out"
   ]
  },
  {
   "cell_type": "code",
   "execution_count": 217,
   "id": "63add8ce-fab3-4d53-af88-ed8a60a7c3cc",
   "metadata": {},
   "outputs": [],
   "source": [
    "class HoldoutLoss(nn.Module):\n",
    "    def __init__(self, ):\n",
    "        super().__init__()\n",
    "\n",
    "    def forward(self, X_out, s, ids):\n",
    "        MSE = nn.MSELoss()\n",
    "        import pdb; pdb.set_trace()\n",
    "        loss = MSE(X_out[:,ids], s)\n",
    "        return loss"
   ]
  },
  {
   "cell_type": "code",
   "execution_count": 218,
   "id": "a82b3c65-e770-4067-a42b-8fceb71be921",
   "metadata": {},
   "outputs": [],
   "source": [
    "model = LSTMModel(b, b, 1, b)"
   ]
  },
  {
   "cell_type": "code",
   "execution_count": 219,
   "id": "c33831e3-bf26-447e-ac07-f3919d47ad16",
   "metadata": {},
   "outputs": [],
   "source": [
    "# Define criterion and optimizer\n",
    "criterion = HoldoutLoss()\n",
    "optimizer = torch.optim.Adam(model.parameters(), lr=0.001)"
   ]
  },
  {
   "cell_type": "code",
   "execution_count": 220,
   "id": "d8c0867f-0a24-496d-8beb-1b2e7f70f8ea",
   "metadata": {},
   "outputs": [
    {
     "name": "stdout",
     "output_type": "stream",
     "text": [
      "> \u001b[0;32m/var/folders/qd/lngl0tnd4557ml_18l05dm8r0000gn/T/ipykernel_15174/2238870521.py\u001b[0m(8)\u001b[0;36mforward\u001b[0;34m()\u001b[0m\n",
      "\u001b[0;32m      5 \u001b[0;31m    \u001b[0;32mdef\u001b[0m \u001b[0mforward\u001b[0m\u001b[0;34m(\u001b[0m\u001b[0mself\u001b[0m\u001b[0;34m,\u001b[0m \u001b[0mX_out\u001b[0m\u001b[0;34m,\u001b[0m \u001b[0ms\u001b[0m\u001b[0;34m,\u001b[0m \u001b[0mids\u001b[0m\u001b[0;34m)\u001b[0m\u001b[0;34m:\u001b[0m\u001b[0;34m\u001b[0m\u001b[0;34m\u001b[0m\u001b[0m\n",
      "\u001b[0m\u001b[0;32m      6 \u001b[0;31m        \u001b[0mMSE\u001b[0m \u001b[0;34m=\u001b[0m \u001b[0mnn\u001b[0m\u001b[0;34m.\u001b[0m\u001b[0mMSELoss\u001b[0m\u001b[0;34m(\u001b[0m\u001b[0;34m)\u001b[0m\u001b[0;34m\u001b[0m\u001b[0;34m\u001b[0m\u001b[0m\n",
      "\u001b[0m\u001b[0;32m      7 \u001b[0;31m        \u001b[0;32mimport\u001b[0m \u001b[0mpdb\u001b[0m\u001b[0;34m;\u001b[0m \u001b[0mpdb\u001b[0m\u001b[0;34m.\u001b[0m\u001b[0mset_trace\u001b[0m\u001b[0;34m(\u001b[0m\u001b[0;34m)\u001b[0m\u001b[0;34m\u001b[0m\u001b[0;34m\u001b[0m\u001b[0m\n",
      "\u001b[0m\u001b[0;32m----> 8 \u001b[0;31m        \u001b[0mloss\u001b[0m \u001b[0;34m=\u001b[0m \u001b[0mMSE\u001b[0m\u001b[0;34m(\u001b[0m\u001b[0mX_out\u001b[0m\u001b[0;34m[\u001b[0m\u001b[0;34m:\u001b[0m\u001b[0;34m,\u001b[0m\u001b[0mids\u001b[0m\u001b[0;34m]\u001b[0m\u001b[0;34m,\u001b[0m \u001b[0ms\u001b[0m\u001b[0;34m)\u001b[0m\u001b[0;34m\u001b[0m\u001b[0;34m\u001b[0m\u001b[0m\n",
      "\u001b[0m\u001b[0;32m      9 \u001b[0;31m        \u001b[0;32mreturn\u001b[0m \u001b[0mloss\u001b[0m\u001b[0;34m\u001b[0m\u001b[0;34m\u001b[0m\u001b[0m\n",
      "\u001b[0m\n"
     ]
    },
    {
     "name": "stdin",
     "output_type": "stream",
     "text": [
      "ipdb>  X_out\n"
     ]
    },
    {
     "name": "stdout",
     "output_type": "stream",
     "text": [
      "tensor([[ 0.4059, -0.2827, -0.4261, -0.2886],\n",
      "        [ 0.4010, -0.3101, -0.4599, -0.2736],\n",
      "        [ 0.4016, -0.3047, -0.4509, -0.2835],\n",
      "        [ 0.4004, -0.3039, -0.4567, -0.2730],\n",
      "        [ 0.4027, -0.3025, -0.4459, -0.2834],\n",
      "        [ 0.3996, -0.2996, -0.4560, -0.2769],\n",
      "        [ 0.4092, -0.2774, -0.4126, -0.2897],\n",
      "        [ 0.4114, -0.2655, -0.3940, -0.3027],\n",
      "        [ 0.4041, -0.2895, -0.4344, -0.2944],\n",
      "        [ 0.4043, -0.2916, -0.4308, -0.2850],\n",
      "        [ 0.3991, -0.3016, -0.4593, -0.2770],\n",
      "        [ 0.4088, -0.2767, -0.4132, -0.2902],\n",
      "        [ 0.4041, -0.2866, -0.4336, -0.2815],\n",
      "        [ 0.4100, -0.2843, -0.4114, -0.2909],\n",
      "        [ 0.4098, -0.2742, -0.4083, -0.2906],\n",
      "        [ 0.4133, -0.2615, -0.3851, -0.3027]], grad_fn=<AddmmBackward0>)\n"
     ]
    },
    {
     "name": "stdin",
     "output_type": "stream",
     "text": [
      "ipdb>  X_out.shape\n"
     ]
    },
    {
     "name": "stdout",
     "output_type": "stream",
     "text": [
      "torch.Size([16, 4])\n"
     ]
    },
    {
     "name": "stdin",
     "output_type": "stream",
     "text": [
      "ipdb>  q\n"
     ]
    }
   ],
   "source": [
    "# Train data set\n",
    "t = 0\n",
    "for batch_idx, (X, s, ids) in enumerate(dataloader):\n",
    "    \n",
    "    # Compute and print loss\n",
    "    loss = criterion(model(X), s.float(), ids)\n",
    "    if t % 100 == 0:\n",
    "        print('t =', t, 'loss =', loss.item())\n",
    "    \n",
    "    # Zero gradients, perform a backward pass, and update the weights\n",
    "    optimizer.zero_grad()\n",
    "    loss.backward()\n",
    "    optimizer.step()\n",
    "    \n",
    "    # Iterate counter\n",
    "    t += 1"
   ]
  },
  {
   "cell_type": "markdown",
   "id": "30c6c829-65ae-49eb-9ff4-cf15de9e7450",
   "metadata": {},
   "source": [
    "Need to learn more about LSTM's to figure out correct implementation."
   ]
  },
  {
   "cell_type": "code",
   "execution_count": null,
   "id": "d21421f6-add5-4340-b7bb-99ff5853e11a",
   "metadata": {},
   "outputs": [],
   "source": []
  }
 ],
 "metadata": {
  "kernelspec": {
   "display_name": "Python 3 (ipykernel)",
   "language": "python",
   "name": "python3"
  },
  "language_info": {
   "codemirror_mode": {
    "name": "ipython",
    "version": 3
   },
   "file_extension": ".py",
   "mimetype": "text/x-python",
   "name": "python",
   "nbconvert_exporter": "python",
   "pygments_lexer": "ipython3",
   "version": "3.8.12"
  }
 },
 "nbformat": 4,
 "nbformat_minor": 5
}
