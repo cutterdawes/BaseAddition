{
 "cells": [
  {
   "cell_type": "code",
   "execution_count": 59,
   "id": "c77c1f9a-2a9e-4c46-ae7f-002f215ff2f9",
   "metadata": {},
   "outputs": [],
   "source": [
    "import numpy as np\n",
    "import matplotlib.pyplot as plt\n",
    "import seaborn as sns\n",
    "from itertools import product\n",
    "import random\n",
    "import math\n",
    "import pickle\n",
    "from tqdm.notebook import tqdm_notebook\n",
    "import sys\n",
    "import torch\n",
    "import torch.nn as nn\n",
    "import torch.nn.functional as F\n",
    "sys.path.append('../')\n",
    "import fn\n",
    "from addition_dataset import GroupAddition"
   ]
  },
  {
   "cell_type": "code",
   "execution_count": 60,
   "id": "46e1c632-414c-46b3-a7c1-bcdf9d06f54b",
   "metadata": {
    "tags": []
   },
   "outputs": [
    {
     "name": "stdout",
     "output_type": "stream",
     "text": [
      "The autoreload extension is already loaded. To reload it, use:\n",
      "  %reload_ext autoreload\n"
     ]
    }
   ],
   "source": [
    "%load_ext autoreload\n",
    "%autoreload 2"
   ]
  },
  {
   "cell_type": "markdown",
   "id": "0cb94066-33ea-4bbb-8d4c-33aebccfa958",
   "metadata": {},
   "source": [
    "## Data Preparation"
   ]
  },
  {
   "cell_type": "code",
   "execution_count": 61,
   "id": "4b537415-1d10-4cf3-9071-22fecf420b73",
   "metadata": {
    "editable": true,
    "slideshow": {
     "slide_type": ""
    },
    "tags": []
   },
   "outputs": [],
   "source": [
    "def prepare_data(b, depth, table, batch_size=16, num_passes=1000, split=0.9):\n",
    "    \n",
    "    # Get indices of training and testing data\n",
    "    N = b**depth\n",
    "    ids = random.sample(range(N), math.ceil(split * N))\n",
    "    heldout_ids = set(range(N)) - set(ids)\n",
    "    \n",
    "    # Create training dataset and dataloader\n",
    "    training_dataset = GroupAddition(table, depth, ids=ids, interleaved=True, digit_order='reversed')\n",
    "    training_dataset = torch.utils.data.ConcatDataset([training_dataset] * num_passes)\n",
    "    training_dataloader = torch.utils.data.DataLoader(training_dataset, batch_size=batch_size, shuffle=True)\n",
    "    \n",
    "    # Create testing dataset and dataloader\n",
    "    testing_dataset = GroupAddition(table, depth, ids=heldout_ids, interleaved=True, digit_order='reversed')\n",
    "    testing_dataset = torch.utils.data.ConcatDataset([testing_dataset] * num_passes)\n",
    "    testing_dataloader = torch.utils.data.DataLoader(testing_dataset, batch_size=batch_size, shuffle=True)\n",
    "\n",
    "    return training_dataloader, testing_dataloader"
   ]
  },
  {
   "cell_type": "markdown",
   "id": "c52ad8d3-1ba6-4427-bfd5-f953a2af70f3",
   "metadata": {},
   "source": [
    "## Definitions"
   ]
  },
  {
   "cell_type": "markdown",
   "id": "b55fd157-1bd9-48b5-8777-947346ed2d11",
   "metadata": {},
   "source": [
    "### Models and loss function"
   ]
  },
  {
   "cell_type": "code",
   "execution_count": 132,
   "id": "2044b98f-1d03-4eac-af03-b390ba005c1c",
   "metadata": {},
   "outputs": [],
   "source": [
    "# Define model\n",
    "class LSTMModel(nn.Module):\n",
    "    '''Simple LSTM model for testing purposes'''\n",
    "    def __init__(self, b, layers):\n",
    "        super().__init__()\n",
    "        self.b = b\n",
    "        self.layers = layers\n",
    "        self.lstm = nn.LSTM(b, b, layers, batch_first=True)\n",
    "        self.linear = nn.Linear(b, 1)\n",
    "\n",
    "    def forward(self, X):\n",
    "        X_out, _ = self.lstm(X)\n",
    "        X_out = self.linear(X_out).squeeze()\n",
    "        return X_out"
   ]
  },
  {
   "cell_type": "code",
   "execution_count": 175,
   "id": "f0b39d82-0657-40a4-815c-cc97b38ee457",
   "metadata": {},
   "outputs": [],
   "source": [
    "class PositionalEncoding(nn.Module):\n",
    "    '''Positional encoder for transformer'''\n",
    "    def __init__(self, b, max_len: int = 300):\n",
    "        super().__init__()\n",
    "        position = torch.arange(max_len).unsqueeze(1)\n",
    "        div_term = torch.exp(torch.arange(0, b, 2) * (-math.log(10000.0) / b))\n",
    "        pe = torch.zeros(max_len, 1, b)\n",
    "        pe[:, 0, 0::2] = torch.sin(position * div_term)\n",
    "        pe[:, 0, 1::2] = torch.cos(position * div_term)\n",
    "        self.register_buffer('pe', pe)\n",
    "\n",
    "    def forward(self, X):\n",
    "        X_out = X + self.pe[:X.size(0)]\n",
    "        return X_out"
   ]
  },
  {
   "cell_type": "code",
   "execution_count": 176,
   "id": "1891403b-54ab-4dad-a566-168baf0b8a36",
   "metadata": {},
   "outputs": [],
   "source": [
    "# Define model\n",
    "class TransformerModel(nn.Module):\n",
    "    '''Simple transformer model for testing purposes'''\n",
    "    def __init__(self, b, heads, layers):\n",
    "        super().__init__()\n",
    "        self.b = b\n",
    "        self.heads = heads\n",
    "        self.layers = layers\n",
    "        self.pos_encoder = PositionalEncoding(b)\n",
    "        self.transformer = nn.TransformerEncoder(nn.TransformerEncoderLayer(b, heads, batch_first=True), layers)\n",
    "        self.linear = nn.Linear(b, 1)\n",
    "\n",
    "    def forward(self, X):\n",
    "        X_out = self.pos_encoder(X)\n",
    "        X_out = self.transformer(X_out)\n",
    "        X_out = self.linear(X_out).squeeze()\n",
    "        return X_out"
   ]
  },
  {
   "cell_type": "code",
   "execution_count": 177,
   "id": "2af33aa9-7a42-4e34-a433-d1383fd619b2",
   "metadata": {},
   "outputs": [],
   "source": [
    "def prediction(X_out, ids):\n",
    "    if X_out.dim() == 2:\n",
    "        X_out_and_ids = zip(torch.unbind(X_out), torch.unbind(ids))\n",
    "        s_out = torch.stack([X_out[ids] for X_out, ids in X_out_and_ids])\n",
    "    else:\n",
    "        s_out = X[ids]\n",
    "    return s_out"
   ]
  },
  {
   "cell_type": "code",
   "execution_count": 178,
   "id": "63add8ce-fab3-4d53-af88-ed8a60a7c3cc",
   "metadata": {},
   "outputs": [],
   "source": [
    "class Loss(nn.Module):\n",
    "    def __init__(self):\n",
    "        super().__init__()\n",
    "\n",
    "    def forward(self, X_out, s, ids):\n",
    "        MSE = nn.MSELoss()\n",
    "        s_out = prediction(X_out, ids)\n",
    "        loss = MSE(s_out, s)\n",
    "        return loss"
   ]
  },
  {
   "cell_type": "markdown",
   "id": "ce717502-3ef2-4d2c-adf0-aded96ab6736",
   "metadata": {},
   "source": [
    "### Training and testing loops"
   ]
  },
  {
   "cell_type": "code",
   "execution_count": 179,
   "id": "d8c0867f-0a24-496d-8beb-1b2e7f70f8ea",
   "metadata": {},
   "outputs": [],
   "source": [
    "def train(model, training_dataloader, criterion, optimizer, print_losses=True):\n",
    "\n",
    "    # Initialize variables\n",
    "    losses = []\n",
    "    t = 0\n",
    "\n",
    "    # Training loop\n",
    "    for batch_idx, (X, s, ids) in enumerate(training_dataloader):\n",
    "        \n",
    "        # Compute, store, and print loss\n",
    "        loss = criterion(model(X), s.float(), ids)\n",
    "        losses.append(loss.item())\n",
    "        if print_losses and (t % 100 == 0):\n",
    "            print(f't = {t}  loss = {loss.item():.6f}')\n",
    "        \n",
    "        # Zero gradients, perform a backward pass, and update the weights\n",
    "        optimizer.zero_grad()\n",
    "        loss.backward()\n",
    "        optimizer.step()\n",
    "        \n",
    "        # Iterate counter\n",
    "        t += 1\n",
    "\n",
    "    return losses"
   ]
  },
  {
   "cell_type": "code",
   "execution_count": 180,
   "id": "d21421f6-add5-4340-b7bb-99ff5853e11a",
   "metadata": {},
   "outputs": [],
   "source": [
    "# Test model\n",
    "def test(model, testing_dataloader, depth, batch_size, print_accuracy=True):\n",
    "    \n",
    "    with torch.no_grad():\n",
    "        \n",
    "        # Set model to evaluation mode\n",
    "        model.eval()\n",
    "    \n",
    "        # Perform evaluation\n",
    "        total_correct = 0\n",
    "        total_samples = 0\n",
    "        for batch_idx, (X, s, ids) in enumerate(testing_dataloader):\n",
    "    \n",
    "            # Forward pass\n",
    "            X_out = model(X)\n",
    "            s_out = prediction(X_out, ids)\n",
    "            s_out = torch.round(s_out)\n",
    "    \n",
    "            # Calculate accuracy\n",
    "            total_correct += ((s_out == s).sum(1) == depth).sum().item()\n",
    "            total_samples += batch_size\n",
    "    \n",
    "        accuracy = total_correct / total_samples\n",
    "        if print_accuracy:\n",
    "            print(f'Accuracy on testing set: {accuracy:.4f}')"
   ]
  },
  {
   "cell_type": "markdown",
   "id": "a3d7146a-dd51-4fa2-bb77-f9bb06d8e382",
   "metadata": {},
   "source": [
    "### Visualization"
   ]
  },
  {
   "cell_type": "code",
   "execution_count": 181,
   "id": "864b3cef-e275-4b1c-9e36-89c26fdc3284",
   "metadata": {},
   "outputs": [],
   "source": [
    "def smooth(losses, size=10):\n",
    "    kernel = np.ones(size) / size\n",
    "    smoothed_losses = np.convolve(losses, kernel, mode='same')\n",
    "    return smoothed_losses"
   ]
  },
  {
   "cell_type": "code",
   "execution_count": 182,
   "id": "1cd5c9da-585d-41c4-b56c-70cffb8e266c",
   "metadata": {},
   "outputs": [],
   "source": [
    "def plot_loss(all_losses, size=10):\n",
    "    if len(all_losses) > 1:\n",
    "        alpha = 0.5\n",
    "    for c, losses in all_losses.items():\n",
    "        plt.plot(smooth(losses, size=size), alpha=alpha, label=sorted(c)[0])\n",
    "    if len(all_losses) > 1:\n",
    "        plt.legend()\n",
    "    plt.title(f'Epoch vs. Loss')\n",
    "    plt.xlabel('Epoch')\n",
    "    plt.ylabel('Loss (MSE)')\n",
    "    plt.show()"
   ]
  },
  {
   "cell_type": "code",
   "execution_count": 183,
   "id": "b4973b70-a7f8-42da-9467-bf26d9170184",
   "metadata": {},
   "outputs": [],
   "source": [
    "def compute_table_losses(b, depth, batch_size, architecture):\n",
    "\n",
    "    # Assert architecture is valid\n",
    "    assert architecture in ['LSTM', 'transformer']\n",
    "    \n",
    "    # Get carry tables for base\n",
    "    with open('../pickles/all_tables.pickle', 'rb') as f:\n",
    "        all_tables = pickle.load(f)\n",
    "    tables = all_tables[b]\n",
    "    \n",
    "    # Train model for each table\n",
    "    all_losses = {}\n",
    "    for c, table in tables.items():\n",
    "    \n",
    "        # Get dataloaders\n",
    "        training_dataloader, testing_dataloader = prepare_data(b, depth, table, batch_size=batch_size)\n",
    "        \n",
    "        # Initialize model\n",
    "        if architecture == 'LSTM':\n",
    "            model = LSTMModel(b, 2)\n",
    "        elif architecture == 'transformer':\n",
    "            model = TransformerModel(b, 1)\n",
    "        \n",
    "        # Define criterion and optimizer\n",
    "        criterion = Loss()\n",
    "        optimizer = torch.optim.Adam(model.parameters(), lr=0.01)\n",
    "    \n",
    "        # Train and test model\n",
    "        losses = train(model, training_dataloader, criterion, optimizer, print_losses=False)\n",
    "        print(c)\n",
    "        test(model, testing_dataloader, depth, batch_size, print_accuracy=True)\n",
    "        print()\n",
    "        all_losses[c] = losses\n",
    "\n",
    "    return all_losses"
   ]
  },
  {
   "cell_type": "markdown",
   "id": "336c5e41-96cf-4495-8a97-45c17fbc6d57",
   "metadata": {},
   "source": [
    "## Execute"
   ]
  },
  {
   "cell_type": "markdown",
   "id": "a7c1e1d4-2ec4-4cff-a043-0138c7a6f8b3",
   "metadata": {},
   "source": [
    "### LSTM"
   ]
  },
  {
   "cell_type": "code",
   "execution_count": 80,
   "id": "a5767687-2051-435a-b159-5a693f85b695",
   "metadata": {},
   "outputs": [
    {
     "name": "stdout",
     "output_type": "stream",
     "text": [
      "((0, 0, 3, 2), (0, 1, 1, 1), (0, 2, 3, 0), (0, 3, 1, 3))\n",
      "Accuracy on testing set: 0.8633\n",
      "\n",
      "((0, 0, 0, 0), (0, 1, 2, 3), (0, 2, 0, 2), (0, 3, 2, 1))\n",
      "Accuracy on testing set: 1.0000\n",
      "\n"
     ]
    }
   ],
   "source": [
    "all_losses = compute_table_losses(4, 3, 16, 'LSTM')"
   ]
  },
  {
   "cell_type": "code",
   "execution_count": 81,
   "id": "42d55d6e-df5b-48cb-94ca-64fa2bc10315",
   "metadata": {},
   "outputs": [
    {
     "data": {
      "image/png": "[encoded data removed]",
      "text/plain": [
       "<Figure size 640x480 with 1 Axes>"
      ]
     },
     "metadata": {},
     "output_type": "display_data"
    }
   ],
   "source": [
    "plot_loss(all_losses, size=4)"
   ]
  },
  {
   "cell_type": "markdown",
   "id": "cc624dff-28b8-4ffe-9ab3-2f991d399f08",
   "metadata": {},
   "source": [
    "The LSTM does well with interleaved, reversed data (still need to check for harder formats). Able to achieve close to perfect accuracy on unseen tuples for all carry tables, seems like standard table loss converges more quickly than alternatives but want more robust data."
   ]
  },
  {
   "cell_type": "markdown",
   "id": "b022fc15-8688-455d-a7af-742b50ea16cc",
   "metadata": {},
   "source": [
    "### Transformer"
   ]
  },
  {
   "cell_type": "code",
   "execution_count": 190,
   "id": "c574dc5a-7617-419a-bf49-d61118f1802b",
   "metadata": {},
   "outputs": [],
   "source": [
    "b = 4\n",
    "depth = 2\n",
    "batch_size = 16"
   ]
  },
  {
   "cell_type": "code",
   "execution_count": 191,
   "id": "38c93301-70f3-4c85-b19f-ab5f14bb7e71",
   "metadata": {},
   "outputs": [],
   "source": [
    "# Get carry tables for base\n",
    "with open('../pickles/all_tables.pickle', 'rb') as f:\n",
    "    all_tables = pickle.load(f)\n",
    "tables = all_tables[b]"
   ]
  },
  {
   "cell_type": "code",
   "execution_count": 192,
   "id": "1e7bff4d-6d3d-44b2-bba2-9fa4d03e3b12",
   "metadata": {},
   "outputs": [],
   "source": [
    "table = tables[((0, 0, 0, 0), (0, 1, 2, 3), (0, 2, 0, 2), (0, 3, 2, 1))]"
   ]
  },
  {
   "cell_type": "code",
   "execution_count": 193,
   "id": "6368a65e-0794-4b70-85eb-8bfe376d6e07",
   "metadata": {},
   "outputs": [],
   "source": [
    "# Get dataloaders\n",
    "training_dataloader, testing_dataloader = prepare_data(b, depth, table, batch_size=batch_size, num_passes=2000)\n",
    "\n",
    "# Initialize model\n",
    "model = TransformerModel(b, 2, 2)\n",
    "\n",
    "# Define criterion and optimizer\n",
    "criterion = Loss()\n",
    "optimizer = torch.optim.Adam(model.parameters(), lr=0.01)"
   ]
  },
  {
   "cell_type": "code",
   "execution_count": 194,
   "id": "7c15e22c-e45a-4d25-8e79-16466231d277",
   "metadata": {},
   "outputs": [
    {
     "name": "stdout",
     "output_type": "stream",
     "text": [
      "t = 0  loss = 3.993464\n",
      "t = 100  loss = 1.144009\n",
      "t = 200  loss = 1.325825\n",
      "t = 300  loss = 1.345300\n",
      "t = 400  loss = 1.142428\n",
      "t = 500  loss = 1.093876\n",
      "t = 600  loss = 1.174075\n",
      "t = 700  loss = 1.317793\n",
      "t = 800  loss = 1.020974\n",
      "t = 900  loss = 1.064950\n",
      "t = 1000  loss = 1.374097\n",
      "t = 1100  loss = 1.131702\n",
      "t = 1200  loss = 1.146499\n",
      "t = 1300  loss = 1.392166\n",
      "t = 1400  loss = 1.459036\n",
      "t = 1500  loss = 1.095876\n",
      "t = 1600  loss = 1.381633\n",
      "t = 1700  loss = 1.171405\n",
      "t = 1800  loss = 1.313322\n"
     ]
    }
   ],
   "source": [
    "# Initialize variables\n",
    "losses = []\n",
    "t = 0\n",
    "\n",
    "# Training loop\n",
    "for batch_idx, (X, s, ids) in enumerate(training_dataloader):\n",
    "    \n",
    "    # Compute, store, and print loss\n",
    "    loss = criterion(model(X), s.float(), ids)\n",
    "    losses.append(loss.item())\n",
    "    if (t % 100 == 0):\n",
    "        print(f't = {t}  loss = {loss.item():.6f}')\n",
    "    \n",
    "    # Zero gradients, perform a backward pass, and update the weights\n",
    "    optimizer.zero_grad()\n",
    "    loss.backward()\n",
    "    optimizer.step()\n",
    "    \n",
    "    # Iterate counter\n",
    "    t += 1"
   ]
  },
  {
   "cell_type": "code",
   "execution_count": 195,
   "id": "b5478992-8901-4547-adc6-8ed6eabb94a3",
   "metadata": {},
   "outputs": [
    {
     "name": "stdout",
     "output_type": "stream",
     "text": [
      "Accuracy on testing set: 0.0000\n"
     ]
    }
   ],
   "source": [
    "# Test model\n",
    "test(model, testing_dataloader, depth, batch_size, print_accuracy=True)"
   ]
  }
 ],
 "metadata": {
  "kernelspec": {
   "display_name": "Python 3 (ipykernel)",
   "language": "python",
   "name": "python3"
  },
  "language_info": {
   "codemirror_mode": {
    "name": "ipython",
    "version": 3
   },
   "file_extension": ".py",
   "mimetype": "text/x-python",
   "name": "python",
   "nbconvert_exporter": "python",
   "pygments_lexer": "ipython3",
   "version": "3.8.12"
  }
 },
 "nbformat": 4,
 "nbformat_minor": 5
}
