{
 "cells": [
  {
   "cell_type": "code",
   "execution_count": 1,
   "id": "c77c1f9a-2a9e-4c46-ae7f-002f215ff2f9",
   "metadata": {},
   "outputs": [],
   "source": [
    "import numpy as np\n",
    "import matplotlib.pyplot as plt\n",
    "import seaborn as sns\n",
    "from itertools import product\n",
    "import random\n",
    "import math\n",
    "import pickle\n",
    "from tqdm.notebook import tqdm_notebook\n",
    "import sys\n",
    "import torch\n",
    "import torch.nn as nn\n",
    "import torch.nn.functional as F\n",
    "sys.path.append('../')\n",
    "import fn\n",
    "from addition_dataset import GroupAddition"
   ]
  },
  {
   "cell_type": "code",
   "execution_count": 2,
   "id": "46e1c632-414c-46b3-a7c1-bcdf9d06f54b",
   "metadata": {
    "tags": []
   },
   "outputs": [],
   "source": [
    "%load_ext autoreload\n",
    "%autoreload 2"
   ]
  },
  {
   "cell_type": "markdown",
   "id": "0cb94066-33ea-4bbb-8d4c-33aebccfa958",
   "metadata": {},
   "source": [
    "## Data Preparation"
   ]
  },
  {
   "cell_type": "code",
   "execution_count": 65,
   "id": "da3c20fc-e92f-4a2f-a3d2-ce31a9e0b92f",
   "metadata": {},
   "outputs": [],
   "source": [
    "def get_ids(b, depth, split_type, split_ratio=0.9, split_depth=-1):\n",
    "    assert split_type in ['interpolate', 'OOD'], 'invalid type'\n",
    "    N = b**depth\n",
    "    if split_type == 'interpolate':\n",
    "        assert (0 < split_ratio < 1), 'invalid split'\n",
    "        ids = random.sample(range(N), math.ceil(split_ratio * N))\n",
    "    elif split_type == 'OOD':\n",
    "        assert (0 < split_depth <= depth), 'invalid sample_depth'\n",
    "        ids = list(range(b**split_depth))\n",
    "    return ids"
   ]
  },
  {
   "cell_type": "code",
   "execution_count": 66,
   "id": "4b537415-1d10-4cf3-9071-22fecf420b73",
   "metadata": {
    "editable": true,
    "slideshow": {
     "slide_type": ""
    },
    "tags": []
   },
   "outputs": [],
   "source": [
    "def prepare_data(b, depth, table, batch_size=16, split_type='interpolate', split_ratio=0.9, split_depth=-1):\n",
    "    \n",
    "    # get indices of training and testing data\n",
    "    N = b**depth\n",
    "    ids = get_ids(b, depth, split_type, split_ratio, split_depth)\n",
    "    heldout_ids = set(range(N)) - set(ids)\n",
    "    \n",
    "    # create training dataset and dataloader\n",
    "    training_dataset = GroupAddition(table, depth, ids=ids, interleaved=True, digit_order='reversed')\n",
    "    training_dataloader = torch.utils.data.DataLoader(training_dataset, batch_size=batch_size, shuffle=True)\n",
    "    \n",
    "    # create testing dataset and dataloader\n",
    "    testing_dataset = GroupAddition(table, depth, ids=heldout_ids, interleaved=True, digit_order='reversed')\n",
    "    testing_dataloader = torch.utils.data.DataLoader(testing_dataset)\n",
    "\n",
    "    return training_dataloader, testing_dataloader"
   ]
  },
  {
   "cell_type": "markdown",
   "id": "c52ad8d3-1ba6-4427-bfd5-f953a2af70f3",
   "metadata": {},
   "source": [
    "## Definitions"
   ]
  },
  {
   "cell_type": "markdown",
   "id": "b55fd157-1bd9-48b5-8777-947346ed2d11",
   "metadata": {},
   "source": [
    "### Models and loss function"
   ]
  },
  {
   "cell_type": "markdown",
   "id": "c7b58013-09ee-4ea4-8ecb-2cc64160bcbc",
   "metadata": {},
   "source": [
    "#### LSTM"
   ]
  },
  {
   "cell_type": "code",
   "execution_count": 56,
   "id": "2044b98f-1d03-4eac-af03-b390ba005c1c",
   "metadata": {},
   "outputs": [],
   "source": [
    "# define model\n",
    "class LSTMModel(nn.Module):\n",
    "    '''simple LSTM model for testing purposes'''\n",
    "    def __init__(self, b, layers):\n",
    "        super().__init__()\n",
    "        self.b = b\n",
    "        self.layers = layers\n",
    "        self.lstm = nn.LSTM(b, b, layers, batch_first=True)\n",
    "        self.linear = nn.Linear(b, 1)\n",
    "\n",
    "    def forward(self, X):\n",
    "        X_out, _ = self.lstm(X)\n",
    "        X_out = self.linear(X_out).squeeze()\n",
    "        return X_out"
   ]
  },
  {
   "cell_type": "markdown",
   "id": "4e6dc6d6-0010-4394-8f6e-5dc583b04092",
   "metadata": {},
   "source": [
    "#### Transformer"
   ]
  },
  {
   "cell_type": "code",
   "execution_count": 57,
   "id": "f0b39d82-0657-40a4-815c-cc97b38ee457",
   "metadata": {},
   "outputs": [],
   "source": [
    "class PositionalEncoding(nn.Module):\n",
    "    '''positional encoder for transformer'''\n",
    "    def __init__(self, b, max_len: int = 300):\n",
    "        super().__init__()\n",
    "        position = torch.arange(max_len).unsqueeze(1)\n",
    "        div_term = torch.exp(torch.arange(0, b, 2) * (-math.log(10000.0) / b))\n",
    "        pe = torch.zeros(max_len, 1, b)\n",
    "        pe[:, 0, 0::2] = torch.sin(position * div_term)\n",
    "        pe[:, 0, 1::2] = torch.cos(position * div_term)\n",
    "        self.register_buffer('pe', pe)\n",
    "\n",
    "    def forward(self, X):\n",
    "        X_out = X + self.pe[:X.size(0)]\n",
    "        return X_out"
   ]
  },
  {
   "cell_type": "code",
   "execution_count": 58,
   "id": "1891403b-54ab-4dad-a566-168baf0b8a36",
   "metadata": {},
   "outputs": [],
   "source": [
    "# define model\n",
    "class TransformerModel(nn.Module):\n",
    "    '''simple transformer model for testing purposes'''\n",
    "    def __init__(self, b, heads, layers):\n",
    "        super().__init__()\n",
    "        self.b = b\n",
    "        self.heads = heads\n",
    "        self.layers = layers\n",
    "        self.pos_encoder = PositionalEncoding(b)\n",
    "        self.transformer = nn.TransformerEncoder(nn.TransformerEncoderLayer(b, heads, batch_first=True), layers)\n",
    "        self.linear = nn.Linear(b, 1)\n",
    "\n",
    "    def forward(self, X):\n",
    "        X_out = self.pos_encoder(X)\n",
    "        X_out = self.transformer(X_out)\n",
    "        X_out = self.linear(X_out).squeeze()\n",
    "        return X_out"
   ]
  },
  {
   "cell_type": "markdown",
   "id": "08f1018e-220a-4463-8f30-de1a4d2c2b4d",
   "metadata": {},
   "source": [
    "#### Loss"
   ]
  },
  {
   "cell_type": "code",
   "execution_count": 50,
   "id": "2af33aa9-7a42-4e34-a433-d1383fd619b2",
   "metadata": {},
   "outputs": [],
   "source": [
    "def prediction(X_out, ids):\n",
    "    if X_out.dim() == 2:\n",
    "        X_out_and_ids = zip(torch.unbind(X_out), torch.unbind(ids))\n",
    "        s_out = torch.stack([X_out[ids] for X_out, ids in X_out_and_ids])\n",
    "    else:\n",
    "        s_out = X_out[ids]\n",
    "    return s_out"
   ]
  },
  {
   "cell_type": "code",
   "execution_count": 51,
   "id": "63add8ce-fab3-4d53-af88-ed8a60a7c3cc",
   "metadata": {},
   "outputs": [],
   "source": [
    "class Loss(nn.Module):\n",
    "    def __init__(self):\n",
    "        super().__init__()\n",
    "\n",
    "    def forward(self, X_out, s, ids):\n",
    "        MSE = nn.MSELoss()\n",
    "        s_out = prediction(X_out, ids)\n",
    "        loss = MSE(s_out, s)\n",
    "        return loss"
   ]
  },
  {
   "cell_type": "markdown",
   "id": "ce717502-3ef2-4d2c-adf0-aded96ab6736",
   "metadata": {},
   "source": [
    "### Training and testing loops"
   ]
  },
  {
   "cell_type": "code",
   "execution_count": 160,
   "id": "d8c0867f-0a24-496d-8beb-1b2e7f70f8ea",
   "metadata": {},
   "outputs": [],
   "source": [
    "def train(model, training_dataloader, criterion, optimizer, num_passes=1000, print_losses=False):\n",
    "\n",
    "    # initialize variables\n",
    "    losses = []\n",
    "\n",
    "    # training loop\n",
    "    for t in range(num_passes):\n",
    "\n",
    "        # optimize over training data\n",
    "        for (X, s, ids) in training_dataloader:\n",
    "            \n",
    "            # compute loss\n",
    "            loss = criterion(model(X), s.float(), ids)\n",
    "            \n",
    "            # zero gradients, perform a backward pass, and update the weights\n",
    "            optimizer.zero_grad()\n",
    "            loss.backward()\n",
    "            optimizer.step()\n",
    "\n",
    "        # store and print latest loss\n",
    "        if t % 10 == 0:\n",
    "            losses.append(loss.item())\n",
    "        if print_losses and (t % 100 == 0):\n",
    "            print(f't = {t}  loss = {loss.item():.6f}')                \n",
    "    \n",
    "    return losses"
   ]
  },
  {
   "cell_type": "code",
   "execution_count": 161,
   "id": "d21421f6-add5-4340-b7bb-99ff5853e11a",
   "metadata": {},
   "outputs": [],
   "source": [
    "# test model\n",
    "def test(model, testing_dataloader, print_accuracy=False, return_accuracy=False):\n",
    "    \n",
    "    with torch.no_grad():\n",
    "        \n",
    "        # set model to evaluation mode\n",
    "        model.eval()\n",
    "    \n",
    "        # perform evaluation\n",
    "        total_correct = 0\n",
    "        total_samples = 0\n",
    "        for (X, s, ids) in testing_dataloader:\n",
    "            \n",
    "            # forward pass\n",
    "            X_out = model(X)\n",
    "            s_out = prediction(X_out, ids)\n",
    "            s_out = torch.round(s_out)\n",
    "    \n",
    "            # check if correct, add to total samples\n",
    "            total_correct += ((s_out == s).sum(1) == s.shape[1]).sum().item()\n",
    "            total_samples += s.shape[0]\n",
    "\n",
    "        # calculate overall accuracy\n",
    "        accuracy = total_correct / total_samples\n",
    "\n",
    "        # print and return if specified\n",
    "        if print_accuracy:\n",
    "            print(f'Accuracy on testing set: {accuracy:.4f}')\n",
    "        if return_accuracy:\n",
    "            return accuracy"
   ]
  },
  {
   "cell_type": "code",
   "execution_count": 163,
   "id": "bbc32eac-188b-417c-b943-74793050b84f",
   "metadata": {},
   "outputs": [],
   "source": [
    "def eval(model, training_dataloader, testing_dataloader, criterion, optimizer, num_passes=1000, print_loss_and_acc=True):\n",
    "\n",
    "    # initialize variables\n",
    "    losses = []\n",
    "    training_accs = []\n",
    "    testing_accs = []\n",
    "\n",
    "    # training loop\n",
    "    for t in range(num_passes):\n",
    "\n",
    "        # compute and store training and testing accuracies\n",
    "        if t % 10 == 0:\n",
    "            with torch.no_grad():\n",
    "                model.eval()\n",
    "                training_acc = test(model, training_dataloader, return_accuracy=True)\n",
    "                training_accs.append(training_acc)\n",
    "                testing_acc = test(model, testing_dataloader, return_accuracy=True)\n",
    "                testing_accs.append(testing_acc)\n",
    "            model.train()\n",
    "\n",
    "        # optimize over training data\n",
    "        for (X, s, ids) in training_dataloader:\n",
    "        \n",
    "            # compute loss\n",
    "            loss = criterion(model(X), s.float(), ids)\n",
    "    \n",
    "            # zero gradients, perform a backward pass, and update the weights\n",
    "            optimizer.zero_grad()\n",
    "            loss.backward()\n",
    "            optimizer.step()\n",
    "\n",
    "        # store and print loss\n",
    "        if t % 10 == 0:\n",
    "            losses.append(loss.item())\n",
    "            if print_loss_and_acc:\n",
    "                print(f't = {t}\\nloss = {loss.item():.6f}, training_acc = {training_acc:.3f}, testing_acc = {testing_acc:.3f}\\n') \n",
    "        \n",
    "    return losses, training_acc, testing_acc"
   ]
  },
  {
   "cell_type": "markdown",
   "id": "a3d7146a-dd51-4fa2-bb77-f9bb06d8e382",
   "metadata": {},
   "source": [
    "### Visualization"
   ]
  },
  {
   "cell_type": "code",
   "execution_count": 62,
   "id": "864b3cef-e275-4b1c-9e36-89c26fdc3284",
   "metadata": {},
   "outputs": [],
   "source": [
    "def smooth(losses, size=10):\n",
    "    kernel = np.ones(size) / size\n",
    "    smoothed_losses = np.convolve(losses, kernel, mode='same')\n",
    "    return smoothed_losses"
   ]
  },
  {
   "cell_type": "code",
   "execution_count": 63,
   "id": "1cd5c9da-585d-41c4-b56c-70cffb8e266c",
   "metadata": {},
   "outputs": [],
   "source": [
    "def plot_loss(all_losses, size=10):\n",
    "    if len(all_losses) > 1:\n",
    "        alpha = 0.5\n",
    "    for c, losses in all_losses.items():\n",
    "        plt.plot(smooth(losses, size=size), alpha=alpha, label=sorted(c)[0])\n",
    "    if len(all_losses) > 1:\n",
    "        plt.legend()\n",
    "    plt.title(f'Epoch vs. Loss')\n",
    "    plt.xlabel('Epoch')\n",
    "    plt.ylabel('Loss (MSE)')\n",
    "    plt.show()"
   ]
  },
  {
   "cell_type": "code",
   "execution_count": 64,
   "id": "b4973b70-a7f8-42da-9467-bf26d9170184",
   "metadata": {},
   "outputs": [],
   "source": [
    "def compute_table_losses(b, depth, batch_size, architecture):\n",
    "\n",
    "    # assert architecture is valid\n",
    "    assert architecture in ['LSTM', 'transformer']\n",
    "    \n",
    "    # get carry tables for base\n",
    "    with open('../pickles/all_tables.pickle', 'rb') as f:\n",
    "        all_tables = pickle.load(f)\n",
    "    tables = all_tables[b]\n",
    "    \n",
    "    # train model for each table\n",
    "    all_losses = {}\n",
    "    for c, table in tables.items():\n",
    "    \n",
    "        # get dataloaders\n",
    "        training_dataloader, testing_dataloader = prepare_data(b, depth, table, batch_size=batch_size)\n",
    "        \n",
    "        # initialize model\n",
    "        if architecture == 'LSTM':\n",
    "            model = LSTMModel(b, 2)\n",
    "        elif architecture == 'transformer':\n",
    "            model = TransformerModel(b, 1)\n",
    "        \n",
    "        # define criterion and optimizer\n",
    "        criterion = Loss()\n",
    "        optimizer = torch.optim.Adam(model.parameters(), lr=0.01)\n",
    "    \n",
    "        # train and test model\n",
    "        losses = train(model, training_dataloader, criterion, optimizer, print_losses=False)\n",
    "        print(c)\n",
    "        test(model, testing_dataloader, print_accuracy=True)\n",
    "        print()\n",
    "        all_losses[c] = losses\n",
    "\n",
    "    return all_losses"
   ]
  },
  {
   "cell_type": "markdown",
   "id": "336c5e41-96cf-4495-8a97-45c17fbc6d57",
   "metadata": {},
   "source": [
    "## Execute"
   ]
  },
  {
   "cell_type": "markdown",
   "id": "a7c1e1d4-2ec4-4cff-a043-0138c7a6f8b3",
   "metadata": {},
   "source": [
    "### LSTM"
   ]
  },
  {
   "cell_type": "markdown",
   "id": "a9b1de1f-0ba8-41eb-8e57-73a01e235982",
   "metadata": {},
   "source": [
    "#### Experiment with OOD generalization"
   ]
  },
  {
   "cell_type": "code",
   "execution_count": 82,
   "id": "450f3df9-078b-4dc8-b976-5468433aea17",
   "metadata": {},
   "outputs": [],
   "source": [
    "with open('../pickles/all_tables.pickle', 'rb') as f:\n",
    "    all_tables = pickle.load(f)\n",
    "tables = all_tables[4]"
   ]
  },
  {
   "cell_type": "code",
   "execution_count": 83,
   "id": "285c8155-b409-4d61-9ab8-2bf740672156",
   "metadata": {},
   "outputs": [],
   "source": [
    "table = tables[((0, 0, 3, 2), (0, 1, 1, 1), (0, 2, 3, 0), (0, 3, 1, 3))]"
   ]
  },
  {
   "cell_type": "code",
   "execution_count": 84,
   "id": "b8c310a7-ec27-4482-8d82-355dfaae0698",
   "metadata": {},
   "outputs": [],
   "source": [
    "training_dataloader, testing_dataloader = prepare_data(4, 6, table, 16, split_type='OOD', split_depth=3)"
   ]
  },
  {
   "cell_type": "code",
   "execution_count": 85,
   "id": "c6eb1918-bbbe-4999-890e-312078623dbf",
   "metadata": {},
   "outputs": [],
   "source": [
    "model = LSTMModel(4, 2)"
   ]
  },
  {
   "cell_type": "code",
   "execution_count": 86,
   "id": "07feec9b-fd4f-4411-93d7-c737c4bc2a59",
   "metadata": {},
   "outputs": [],
   "source": [
    "criterion = Loss()\n",
    "optimizer = torch.optim.Adam(model.parameters(), lr=0.01)"
   ]
  },
  {
   "cell_type": "code",
   "execution_count": null,
   "id": "193c7fae-2264-43c0-a797-f4bd8f2782df",
   "metadata": {},
   "outputs": [],
   "source": [
    "losses = train(model, training_dataloader, criterion, optimizer, num_passes=1000, print_losses=True)"
   ]
  },
  {
   "cell_type": "code",
   "execution_count": null,
   "id": "05551e53-99e0-41d3-918c-2428e540f4b9",
   "metadata": {},
   "outputs": [],
   "source": [
    "test(model, testing_dataloader, print_accuracy=True)"
   ]
  },
  {
   "cell_type": "markdown",
   "id": "90e4aa8c-987e-4444-873a-e91682ca3935",
   "metadata": {},
   "source": [
    "Exciting!! Evidence that LSTM can learn the abstract carry rule and extend to OOD samples. Above, trained on 3-digit addition and when tested up to 7-digits attains ~100% accuracy."
   ]
  },
  {
   "cell_type": "markdown",
   "id": "6fb94486-b8ef-4177-ac37-7fb5c80a8071",
   "metadata": {},
   "source": [
    "#### Test eval function"
   ]
  },
  {
   "cell_type": "code",
   "execution_count": 164,
   "id": "f0629412-b336-4c89-ac9a-01ec0bff72a2",
   "metadata": {},
   "outputs": [],
   "source": [
    "with open('../pickles/all_tables.pickle', 'rb') as f:\n",
    "    all_tables = pickle.load(f)\n",
    "tables = all_tables[4]"
   ]
  },
  {
   "cell_type": "code",
   "execution_count": 165,
   "id": "56fd2e0c-1a0e-467e-9f43-3ab414eafaec",
   "metadata": {},
   "outputs": [],
   "source": [
    "table = tables[((0, 0, 3, 2), (0, 1, 1, 1), (0, 2, 3, 0), (0, 3, 1, 3))]"
   ]
  },
  {
   "cell_type": "code",
   "execution_count": 166,
   "id": "0c5b76eb-012d-4408-b528-290b1c564887",
   "metadata": {},
   "outputs": [],
   "source": [
    "training_dataloader, testing_dataloader = prepare_data(4, 7, table, 16, split_type='OOD', split_depth=3)"
   ]
  },
  {
   "cell_type": "code",
   "execution_count": 167,
   "id": "967949cb-554f-499d-83ef-d975a7a99752",
   "metadata": {},
   "outputs": [],
   "source": [
    "model = LSTMModel(4, 2)"
   ]
  },
  {
   "cell_type": "code",
   "execution_count": 168,
   "id": "d0ab8f99-40f1-4fa0-aa2e-f09a869e7c8a",
   "metadata": {},
   "outputs": [],
   "source": [
    "criterion = Loss()\n",
    "optimizer = torch.optim.Adam(model.parameters(), lr=0.01)"
   ]
  },
  {
   "cell_type": "code",
   "execution_count": 169,
   "id": "b1eba971-8636-4880-bc2e-375880c10d14",
   "metadata": {},
   "outputs": [
    {
     "name": "stdout",
     "output_type": "stream",
     "text": [
      "t = 0\n",
      "loss = 1.956273, training_acc = 0.000, testing_acc = 0.000\n",
      "\n",
      "t = 10\n",
      "loss = 1.477873, training_acc = 0.000, testing_acc = 0.000\n",
      "\n",
      "t = 20\n",
      "loss = 0.672079, training_acc = 0.000, testing_acc = 0.000\n",
      "\n",
      "t = 30\n",
      "loss = 0.744474, training_acc = 0.016, testing_acc = 0.000\n",
      "\n",
      "t = 40\n",
      "loss = 0.508940, training_acc = 0.000, testing_acc = 0.001\n",
      "\n",
      "t = 50\n",
      "loss = 0.540566, training_acc = 0.047, testing_acc = 0.000\n",
      "\n",
      "t = 60\n",
      "loss = 0.726577, training_acc = 0.000, testing_acc = 0.000\n",
      "\n",
      "t = 70\n",
      "loss = 0.631571, training_acc = 0.000, testing_acc = 0.000\n",
      "\n",
      "t = 80\n",
      "loss = 0.565442, training_acc = 0.016, testing_acc = 0.000\n",
      "\n",
      "t = 90\n",
      "loss = 0.452784, training_acc = 0.016, testing_acc = 0.003\n",
      "\n",
      "t = 100\n",
      "loss = 0.364491, training_acc = 0.047, testing_acc = 0.002\n",
      "\n",
      "t = 110\n",
      "loss = 0.401069, training_acc = 0.156, testing_acc = 0.005\n",
      "\n",
      "t = 120\n",
      "loss = 0.420658, training_acc = 0.047, testing_acc = 0.006\n",
      "\n",
      "t = 130\n",
      "loss = 0.369785, training_acc = 0.047, testing_acc = 0.007\n",
      "\n",
      "t = 140\n",
      "loss = 0.510705, training_acc = 0.016, testing_acc = 0.008\n",
      "\n",
      "t = 150\n",
      "loss = 0.420081, training_acc = 0.109, testing_acc = 0.013\n",
      "\n",
      "t = 160\n",
      "loss = 0.552303, training_acc = 0.172, testing_acc = 0.015\n",
      "\n",
      "t = 170\n",
      "loss = 0.377779, training_acc = 0.219, testing_acc = 0.014\n",
      "\n",
      "t = 180\n",
      "loss = 0.308731, training_acc = 0.172, testing_acc = 0.019\n",
      "\n",
      "t = 190\n",
      "loss = 0.472935, training_acc = 0.266, testing_acc = 0.021\n",
      "\n",
      "t = 200\n",
      "loss = 0.384142, training_acc = 0.156, testing_acc = 0.023\n",
      "\n",
      "t = 210\n",
      "loss = 0.357900, training_acc = 0.109, testing_acc = 0.016\n",
      "\n"
     ]
    },
    {
     "ename": "KeyboardInterrupt",
     "evalue": "",
     "output_type": "error",
     "traceback": [
      "\u001b[0;31m---------------------------------------------------------------------------\u001b[0m",
      "\u001b[0;31mKeyboardInterrupt\u001b[0m                         Traceback (most recent call last)",
      "Cell \u001b[0;32mIn[169], line 1\u001b[0m\n\u001b[0;32m----> 1\u001b[0m losses, training_acc, testing_acc \u001b[38;5;241m=\u001b[39m \u001b[38;5;28;43meval\u001b[39;49m\u001b[43m(\u001b[49m\u001b[43mmodel\u001b[49m\u001b[43m,\u001b[49m\u001b[43m \u001b[49m\u001b[43mtraining_dataloader\u001b[49m\u001b[43m,\u001b[49m\u001b[43m \u001b[49m\u001b[43mtesting_dataloader\u001b[49m\u001b[43m,\u001b[49m\u001b[43m \u001b[49m\u001b[43mcriterion\u001b[49m\u001b[43m,\u001b[49m\u001b[43m \u001b[49m\u001b[43moptimizer\u001b[49m\u001b[43m,\u001b[49m\u001b[43m \u001b[49m\u001b[43mprint_loss_and_acc\u001b[49m\u001b[38;5;241;43m=\u001b[39;49m\u001b[38;5;28;43;01mTrue\u001b[39;49;00m\u001b[43m)\u001b[49m\n",
      "Cell \u001b[0;32mIn[163], line 17\u001b[0m, in \u001b[0;36meval\u001b[0;34m(model, training_dataloader, testing_dataloader, criterion, optimizer, num_passes, print_loss_and_acc)\u001b[0m\n\u001b[1;32m     15\u001b[0m     training_acc \u001b[38;5;241m=\u001b[39m test(model, training_dataloader, return_accuracy\u001b[38;5;241m=\u001b[39m\u001b[38;5;28;01mTrue\u001b[39;00m)\n\u001b[1;32m     16\u001b[0m     training_accs\u001b[38;5;241m.\u001b[39mappend(training_acc)\n\u001b[0;32m---> 17\u001b[0m     testing_acc \u001b[38;5;241m=\u001b[39m \u001b[43mtest\u001b[49m\u001b[43m(\u001b[49m\u001b[43mmodel\u001b[49m\u001b[43m,\u001b[49m\u001b[43m \u001b[49m\u001b[43mtesting_dataloader\u001b[49m\u001b[43m,\u001b[49m\u001b[43m \u001b[49m\u001b[43mreturn_accuracy\u001b[49m\u001b[38;5;241;43m=\u001b[39;49m\u001b[38;5;28;43;01mTrue\u001b[39;49;00m\u001b[43m)\u001b[49m\n\u001b[1;32m     18\u001b[0m     testing_accs\u001b[38;5;241m.\u001b[39mappend(testing_acc)\n\u001b[1;32m     19\u001b[0m model\u001b[38;5;241m.\u001b[39mtrain()\n",
      "Cell \u001b[0;32mIn[161], line 12\u001b[0m, in \u001b[0;36mtest\u001b[0;34m(model, testing_dataloader, print_accuracy, return_accuracy)\u001b[0m\n\u001b[1;32m     10\u001b[0m total_correct \u001b[38;5;241m=\u001b[39m \u001b[38;5;241m0\u001b[39m\n\u001b[1;32m     11\u001b[0m total_samples \u001b[38;5;241m=\u001b[39m \u001b[38;5;241m0\u001b[39m\n\u001b[0;32m---> 12\u001b[0m \u001b[38;5;28;01mfor\u001b[39;00m (X, s, ids) \u001b[38;5;129;01min\u001b[39;00m testing_dataloader:\n\u001b[1;32m     13\u001b[0m     \n\u001b[1;32m     14\u001b[0m     \u001b[38;5;66;03m# forward pass\u001b[39;00m\n\u001b[1;32m     15\u001b[0m     X_out \u001b[38;5;241m=\u001b[39m model(X)\n\u001b[1;32m     16\u001b[0m     s_out \u001b[38;5;241m=\u001b[39m prediction(X_out, ids)\n",
      "File \u001b[0;32m~/anaconda3/lib/python3.8/site-packages/torch/utils/data/dataloader.py:628\u001b[0m, in \u001b[0;36m_BaseDataLoaderIter.__next__\u001b[0;34m(self)\u001b[0m\n\u001b[1;32m    625\u001b[0m \u001b[38;5;28;01mif\u001b[39;00m \u001b[38;5;28mself\u001b[39m\u001b[38;5;241m.\u001b[39m_sampler_iter \u001b[38;5;129;01mis\u001b[39;00m \u001b[38;5;28;01mNone\u001b[39;00m:\n\u001b[1;32m    626\u001b[0m     \u001b[38;5;66;03m# TODO(https://github.com/pytorch/pytorch/issues/76750)\u001b[39;00m\n\u001b[1;32m    627\u001b[0m     \u001b[38;5;28mself\u001b[39m\u001b[38;5;241m.\u001b[39m_reset()  \u001b[38;5;66;03m# type: ignore[call-arg]\u001b[39;00m\n\u001b[0;32m--> 628\u001b[0m data \u001b[38;5;241m=\u001b[39m \u001b[38;5;28;43mself\u001b[39;49m\u001b[38;5;241;43m.\u001b[39;49m\u001b[43m_next_data\u001b[49m\u001b[43m(\u001b[49m\u001b[43m)\u001b[49m\n\u001b[1;32m    629\u001b[0m \u001b[38;5;28mself\u001b[39m\u001b[38;5;241m.\u001b[39m_num_yielded \u001b[38;5;241m+\u001b[39m\u001b[38;5;241m=\u001b[39m \u001b[38;5;241m1\u001b[39m\n\u001b[1;32m    630\u001b[0m \u001b[38;5;28;01mif\u001b[39;00m \u001b[38;5;28mself\u001b[39m\u001b[38;5;241m.\u001b[39m_dataset_kind \u001b[38;5;241m==\u001b[39m _DatasetKind\u001b[38;5;241m.\u001b[39mIterable \u001b[38;5;129;01mand\u001b[39;00m \\\n\u001b[1;32m    631\u001b[0m         \u001b[38;5;28mself\u001b[39m\u001b[38;5;241m.\u001b[39m_IterableDataset_len_called \u001b[38;5;129;01mis\u001b[39;00m \u001b[38;5;129;01mnot\u001b[39;00m \u001b[38;5;28;01mNone\u001b[39;00m \u001b[38;5;129;01mand\u001b[39;00m \\\n\u001b[1;32m    632\u001b[0m         \u001b[38;5;28mself\u001b[39m\u001b[38;5;241m.\u001b[39m_num_yielded \u001b[38;5;241m>\u001b[39m \u001b[38;5;28mself\u001b[39m\u001b[38;5;241m.\u001b[39m_IterableDataset_len_called:\n",
      "File \u001b[0;32m~/anaconda3/lib/python3.8/site-packages/torch/utils/data/dataloader.py:671\u001b[0m, in \u001b[0;36m_SingleProcessDataLoaderIter._next_data\u001b[0;34m(self)\u001b[0m\n\u001b[1;32m    669\u001b[0m \u001b[38;5;28;01mdef\u001b[39;00m \u001b[38;5;21m_next_data\u001b[39m(\u001b[38;5;28mself\u001b[39m):\n\u001b[1;32m    670\u001b[0m     index \u001b[38;5;241m=\u001b[39m \u001b[38;5;28mself\u001b[39m\u001b[38;5;241m.\u001b[39m_next_index()  \u001b[38;5;66;03m# may raise StopIteration\u001b[39;00m\n\u001b[0;32m--> 671\u001b[0m     data \u001b[38;5;241m=\u001b[39m \u001b[38;5;28;43mself\u001b[39;49m\u001b[38;5;241;43m.\u001b[39;49m\u001b[43m_dataset_fetcher\u001b[49m\u001b[38;5;241;43m.\u001b[39;49m\u001b[43mfetch\u001b[49m\u001b[43m(\u001b[49m\u001b[43mindex\u001b[49m\u001b[43m)\u001b[49m  \u001b[38;5;66;03m# may raise StopIteration\u001b[39;00m\n\u001b[1;32m    672\u001b[0m     \u001b[38;5;28;01mif\u001b[39;00m \u001b[38;5;28mself\u001b[39m\u001b[38;5;241m.\u001b[39m_pin_memory:\n\u001b[1;32m    673\u001b[0m         data \u001b[38;5;241m=\u001b[39m _utils\u001b[38;5;241m.\u001b[39mpin_memory\u001b[38;5;241m.\u001b[39mpin_memory(data, \u001b[38;5;28mself\u001b[39m\u001b[38;5;241m.\u001b[39m_pin_memory_device)\n",
      "File \u001b[0;32m~/anaconda3/lib/python3.8/site-packages/torch/utils/data/_utils/fetch.py:58\u001b[0m, in \u001b[0;36m_MapDatasetFetcher.fetch\u001b[0;34m(self, possibly_batched_index)\u001b[0m\n\u001b[1;32m     56\u001b[0m         data \u001b[38;5;241m=\u001b[39m \u001b[38;5;28mself\u001b[39m\u001b[38;5;241m.\u001b[39mdataset\u001b[38;5;241m.\u001b[39m__getitems__(possibly_batched_index)\n\u001b[1;32m     57\u001b[0m     \u001b[38;5;28;01melse\u001b[39;00m:\n\u001b[0;32m---> 58\u001b[0m         data \u001b[38;5;241m=\u001b[39m [\u001b[38;5;28mself\u001b[39m\u001b[38;5;241m.\u001b[39mdataset[idx] \u001b[38;5;28;01mfor\u001b[39;00m idx \u001b[38;5;129;01min\u001b[39;00m possibly_batched_index]\n\u001b[1;32m     59\u001b[0m \u001b[38;5;28;01melse\u001b[39;00m:\n\u001b[1;32m     60\u001b[0m     data \u001b[38;5;241m=\u001b[39m \u001b[38;5;28mself\u001b[39m\u001b[38;5;241m.\u001b[39mdataset[possibly_batched_index]\n",
      "File \u001b[0;32m~/anaconda3/lib/python3.8/site-packages/torch/utils/data/_utils/fetch.py:58\u001b[0m, in \u001b[0;36m<listcomp>\u001b[0;34m(.0)\u001b[0m\n\u001b[1;32m     56\u001b[0m         data \u001b[38;5;241m=\u001b[39m \u001b[38;5;28mself\u001b[39m\u001b[38;5;241m.\u001b[39mdataset\u001b[38;5;241m.\u001b[39m__getitems__(possibly_batched_index)\n\u001b[1;32m     57\u001b[0m     \u001b[38;5;28;01melse\u001b[39;00m:\n\u001b[0;32m---> 58\u001b[0m         data \u001b[38;5;241m=\u001b[39m [\u001b[38;5;28;43mself\u001b[39;49m\u001b[38;5;241;43m.\u001b[39;49m\u001b[43mdataset\u001b[49m\u001b[43m[\u001b[49m\u001b[43midx\u001b[49m\u001b[43m]\u001b[49m \u001b[38;5;28;01mfor\u001b[39;00m idx \u001b[38;5;129;01min\u001b[39;00m possibly_batched_index]\n\u001b[1;32m     59\u001b[0m \u001b[38;5;28;01melse\u001b[39;00m:\n\u001b[1;32m     60\u001b[0m     data \u001b[38;5;241m=\u001b[39m \u001b[38;5;28mself\u001b[39m\u001b[38;5;241m.\u001b[39mdataset[possibly_batched_index]\n",
      "File \u001b[0;32m~/Desktop/Princeton/Thesis/Repo/ml/addition_dataset.py:88\u001b[0m, in \u001b[0;36mGroupAddition.__getitem__\u001b[0;34m(self, idx)\u001b[0m\n\u001b[1;32m     86\u001b[0m g1 \u001b[38;5;241m=\u001b[39m BaseElt(\u001b[38;5;28mtuple\u001b[39m(v1), \u001b[38;5;28mself\u001b[39m\u001b[38;5;241m.\u001b[39mcarry_table)\n\u001b[1;32m     87\u001b[0m g2 \u001b[38;5;241m=\u001b[39m BaseElt(\u001b[38;5;28mtuple\u001b[39m(v2), \u001b[38;5;28mself\u001b[39m\u001b[38;5;241m.\u001b[39mcarry_table)\n\u001b[0;32m---> 88\u001b[0m s \u001b[38;5;241m=\u001b[39m \u001b[38;5;28mlist\u001b[39m((\u001b[43mg1\u001b[49m\u001b[43m \u001b[49m\u001b[38;5;241;43m+\u001b[39;49m\u001b[43m \u001b[49m\u001b[43mg2\u001b[49m)\u001b[38;5;241m.\u001b[39mvals)\n\u001b[1;32m     89\u001b[0m \u001b[38;5;66;03m#only consider cyclic addition\u001b[39;00m\n\u001b[1;32m     90\u001b[0m \u001b[38;5;28;01mif\u001b[39;00m \u001b[38;5;28mlen\u001b[39m(s) \u001b[38;5;241m>\u001b[39m \u001b[38;5;28mself\u001b[39m\u001b[38;5;241m.\u001b[39mdepth:\n",
      "File \u001b[0;32m~/Desktop/Princeton/Thesis/Repo/ml/../base.py:82\u001b[0m, in \u001b[0;36mBaseElt.__add__\u001b[0;34m(self, other)\u001b[0m\n\u001b[1;32m     80\u001b[0m n_tail \u001b[38;5;241m=\u001b[39m BaseElt(n[\u001b[38;5;241m1\u001b[39m:], \u001b[38;5;28mself\u001b[39m\u001b[38;5;241m.\u001b[39mcarry_table)\n\u001b[1;32m     81\u001b[0m m_tail \u001b[38;5;241m=\u001b[39m BaseElt(m[\u001b[38;5;241m1\u001b[39m:], \u001b[38;5;28mself\u001b[39m\u001b[38;5;241m.\u001b[39mcarry_table)\n\u001b[0;32m---> 82\u001b[0m s_tail \u001b[38;5;241m=\u001b[39m (\u001b[43mn_tail\u001b[49m\u001b[43m \u001b[49m\u001b[38;5;241;43m+\u001b[39;49m\u001b[43m \u001b[49m\u001b[43mm_tail\u001b[49m)\u001b[38;5;241m.\u001b[39mvals\n\u001b[1;32m     83\u001b[0m s_tail \u001b[38;5;241m=\u001b[39m s_tail[\u001b[38;5;241m-\u001b[39m\u001b[38;5;28mlen\u001b[39m(n_tail):] \u001b[38;5;28;01mif\u001b[39;00m \u001b[38;5;28mlen\u001b[39m(s_tail) \u001b[38;5;241m>\u001b[39m \u001b[38;5;241m1\u001b[39m \u001b[38;5;28;01melse\u001b[39;00m s_tail\n\u001b[1;32m     84\u001b[0m carried_tail \u001b[38;5;241m=\u001b[39m \u001b[38;5;28mself\u001b[39m\u001b[38;5;241m.\u001b[39mcarry_table[n[\u001b[38;5;241m1\u001b[39m:], m[\u001b[38;5;241m1\u001b[39m:]]\n",
      "File \u001b[0;32m~/Desktop/Princeton/Thesis/Repo/ml/../base.py:82\u001b[0m, in \u001b[0;36mBaseElt.__add__\u001b[0;34m(self, other)\u001b[0m\n\u001b[1;32m     80\u001b[0m n_tail \u001b[38;5;241m=\u001b[39m BaseElt(n[\u001b[38;5;241m1\u001b[39m:], \u001b[38;5;28mself\u001b[39m\u001b[38;5;241m.\u001b[39mcarry_table)\n\u001b[1;32m     81\u001b[0m m_tail \u001b[38;5;241m=\u001b[39m BaseElt(m[\u001b[38;5;241m1\u001b[39m:], \u001b[38;5;28mself\u001b[39m\u001b[38;5;241m.\u001b[39mcarry_table)\n\u001b[0;32m---> 82\u001b[0m s_tail \u001b[38;5;241m=\u001b[39m (\u001b[43mn_tail\u001b[49m\u001b[43m \u001b[49m\u001b[38;5;241;43m+\u001b[39;49m\u001b[43m \u001b[49m\u001b[43mm_tail\u001b[49m)\u001b[38;5;241m.\u001b[39mvals\n\u001b[1;32m     83\u001b[0m s_tail \u001b[38;5;241m=\u001b[39m s_tail[\u001b[38;5;241m-\u001b[39m\u001b[38;5;28mlen\u001b[39m(n_tail):] \u001b[38;5;28;01mif\u001b[39;00m \u001b[38;5;28mlen\u001b[39m(s_tail) \u001b[38;5;241m>\u001b[39m \u001b[38;5;241m1\u001b[39m \u001b[38;5;28;01melse\u001b[39;00m s_tail\n\u001b[1;32m     84\u001b[0m carried_tail \u001b[38;5;241m=\u001b[39m \u001b[38;5;28mself\u001b[39m\u001b[38;5;241m.\u001b[39mcarry_table[n[\u001b[38;5;241m1\u001b[39m:], m[\u001b[38;5;241m1\u001b[39m:]]\n",
      "    \u001b[0;31m[... skipping similar frames: BaseElt.__add__ at line 82 (1 times)]\u001b[0m\n",
      "File \u001b[0;32m~/Desktop/Princeton/Thesis/Repo/ml/../base.py:82\u001b[0m, in \u001b[0;36mBaseElt.__add__\u001b[0;34m(self, other)\u001b[0m\n\u001b[1;32m     80\u001b[0m n_tail \u001b[38;5;241m=\u001b[39m BaseElt(n[\u001b[38;5;241m1\u001b[39m:], \u001b[38;5;28mself\u001b[39m\u001b[38;5;241m.\u001b[39mcarry_table)\n\u001b[1;32m     81\u001b[0m m_tail \u001b[38;5;241m=\u001b[39m BaseElt(m[\u001b[38;5;241m1\u001b[39m:], \u001b[38;5;28mself\u001b[39m\u001b[38;5;241m.\u001b[39mcarry_table)\n\u001b[0;32m---> 82\u001b[0m s_tail \u001b[38;5;241m=\u001b[39m (\u001b[43mn_tail\u001b[49m\u001b[43m \u001b[49m\u001b[38;5;241;43m+\u001b[39;49m\u001b[43m \u001b[49m\u001b[43mm_tail\u001b[49m)\u001b[38;5;241m.\u001b[39mvals\n\u001b[1;32m     83\u001b[0m s_tail \u001b[38;5;241m=\u001b[39m s_tail[\u001b[38;5;241m-\u001b[39m\u001b[38;5;28mlen\u001b[39m(n_tail):] \u001b[38;5;28;01mif\u001b[39;00m \u001b[38;5;28mlen\u001b[39m(s_tail) \u001b[38;5;241m>\u001b[39m \u001b[38;5;241m1\u001b[39m \u001b[38;5;28;01melse\u001b[39;00m s_tail\n\u001b[1;32m     84\u001b[0m carried_tail \u001b[38;5;241m=\u001b[39m \u001b[38;5;28mself\u001b[39m\u001b[38;5;241m.\u001b[39mcarry_table[n[\u001b[38;5;241m1\u001b[39m:], m[\u001b[38;5;241m1\u001b[39m:]]\n",
      "File \u001b[0;32m~/Desktop/Princeton/Thesis/Repo/ml/../base.py:84\u001b[0m, in \u001b[0;36mBaseElt.__add__\u001b[0;34m(self, other)\u001b[0m\n\u001b[1;32m     82\u001b[0m s_tail \u001b[38;5;241m=\u001b[39m (n_tail \u001b[38;5;241m+\u001b[39m m_tail)\u001b[38;5;241m.\u001b[39mvals\n\u001b[1;32m     83\u001b[0m s_tail \u001b[38;5;241m=\u001b[39m s_tail[\u001b[38;5;241m-\u001b[39m\u001b[38;5;28mlen\u001b[39m(n_tail):] \u001b[38;5;28;01mif\u001b[39;00m \u001b[38;5;28mlen\u001b[39m(s_tail) \u001b[38;5;241m>\u001b[39m \u001b[38;5;241m1\u001b[39m \u001b[38;5;28;01melse\u001b[39;00m s_tail\n\u001b[0;32m---> 84\u001b[0m carried_tail \u001b[38;5;241m=\u001b[39m \u001b[38;5;28;43mself\u001b[39;49m\u001b[38;5;241;43m.\u001b[39;49m\u001b[43mcarry_table\u001b[49m\u001b[43m[\u001b[49m\u001b[43mn\u001b[49m\u001b[43m[\u001b[49m\u001b[38;5;241;43m1\u001b[39;49m\u001b[43m:\u001b[49m\u001b[43m]\u001b[49m\u001b[43m,\u001b[49m\u001b[43m \u001b[49m\u001b[43mm\u001b[49m\u001b[43m[\u001b[49m\u001b[38;5;241;43m1\u001b[39;49m\u001b[43m:\u001b[49m\u001b[43m]\u001b[49m\u001b[43m]\u001b[49m\n\u001b[1;32m     86\u001b[0m \u001b[38;5;66;03m# get value and carried of head\u001b[39;00m\n\u001b[1;32m     87\u001b[0m s_head \u001b[38;5;241m=\u001b[39m (n[\u001b[38;5;241m0\u001b[39m] \u001b[38;5;241m+\u001b[39m m[\u001b[38;5;241m0\u001b[39m] \u001b[38;5;241m+\u001b[39m carried_tail) \u001b[38;5;241m%\u001b[39m \u001b[38;5;28mself\u001b[39m\u001b[38;5;241m.\u001b[39mb\n",
      "\u001b[0;31mKeyboardInterrupt\u001b[0m: "
     ]
    }
   ],
   "source": [
    "losses, training_acc, testing_acc = eval(model, training_dataloader, testing_dataloader, criterion, optimizer, print_loss_and_acc=True)"
   ]
  },
  {
   "cell_type": "markdown",
   "id": "b4a12892-c84a-43a4-9801-4660f0a59ba1",
   "metadata": {},
   "source": [
    "#### Compare loss curves of different carry tables"
   ]
  },
  {
   "cell_type": "code",
   "execution_count": 27,
   "id": "a5767687-2051-435a-b159-5a693f85b695",
   "metadata": {},
   "outputs": [
    {
     "name": "stdout",
     "output_type": "stream",
     "text": [
      "((0, 0, 3, 2), (0, 1, 1, 1), (0, 2, 3, 0), (0, 3, 1, 3))\n",
      "Accuracy on testing set: 1.0000\n",
      "\n",
      "((0, 0, 0, 0), (0, 1, 2, 3), (0, 2, 0, 2), (0, 3, 2, 1))\n",
      "Accuracy on testing set: 1.0000\n",
      "\n"
     ]
    }
   ],
   "source": [
    "all_losses = compute_table_losses(4, 3, 16, 'LSTM')"
   ]
  },
  {
   "cell_type": "code",
   "execution_count": 28,
   "id": "42d55d6e-df5b-48cb-94ca-64fa2bc10315",
   "metadata": {},
   "outputs": [
    {
     "data": {
      "image/png": "[encoded data removed]",
      "text/plain": [
       "<Figure size 640x480 with 1 Axes>"
      ]
     },
     "metadata": {},
     "output_type": "display_data"
    }
   ],
   "source": [
    "plot_loss(all_losses, size=4)"
   ]
  },
  {
   "cell_type": "markdown",
   "id": "cc624dff-28b8-4ffe-9ab3-2f991d399f08",
   "metadata": {},
   "source": [
    "The LSTM does well with interleaved, reversed data (still need to check for harder formats). Able to achieve close to perfect accuracy on unseen tuples for all carry tables, seems like standard table loss converges more quickly than alternatives but want more robust data."
   ]
  },
  {
   "cell_type": "markdown",
   "id": "b022fc15-8688-455d-a7af-742b50ea16cc",
   "metadata": {},
   "source": [
    "### Transformer"
   ]
  },
  {
   "cell_type": "code",
   "execution_count": null,
   "id": "c574dc5a-7617-419a-bf49-d61118f1802b",
   "metadata": {},
   "outputs": [],
   "source": [
    "b = 4\n",
    "depth = 2\n",
    "batch_size = 16"
   ]
  },
  {
   "cell_type": "code",
   "execution_count": null,
   "id": "38c93301-70f3-4c85-b19f-ab5f14bb7e71",
   "metadata": {},
   "outputs": [],
   "source": [
    "# get carry tables for base\n",
    "with open('../pickles/all_tables.pickle', 'rb') as f:\n",
    "    all_tables = pickle.load(f)\n",
    "tables = all_tables[b]"
   ]
  },
  {
   "cell_type": "code",
   "execution_count": null,
   "id": "1e7bff4d-6d3d-44b2-bba2-9fa4d03e3b12",
   "metadata": {},
   "outputs": [],
   "source": [
    "table = tables[((0, 0, 0, 0), (0, 1, 2, 3), (0, 2, 0, 2), (0, 3, 2, 1))]"
   ]
  },
  {
   "cell_type": "code",
   "execution_count": null,
   "id": "6368a65e-0794-4b70-85eb-8bfe376d6e07",
   "metadata": {},
   "outputs": [],
   "source": [
    "# get dataloaders\n",
    "training_dataloader, testing_dataloader = prepare_data(b, depth, table, batch_size=batch_size, num_passes=2000)\n",
    "\n",
    "# initialize model\n",
    "model = TransformerModel(b, 2, 2)\n",
    "\n",
    "# define criterion and optimizer\n",
    "criterion = Loss()\n",
    "optimizer = torch.optim.Adam(model.parameters(), lr=0.01)"
   ]
  },
  {
   "cell_type": "code",
   "execution_count": null,
   "id": "7c15e22c-e45a-4d25-8e79-16466231d277",
   "metadata": {},
   "outputs": [],
   "source": [
    "# initialize variables\n",
    "losses = []\n",
    "t = 0\n",
    "\n",
    "# training loop\n",
    "for (X, s, ids) in training_dataloader:\n",
    "    \n",
    "    # compute, store, and print loss\n",
    "    loss = criterion(model(X), s.float(), ids)\n",
    "    losses.append(loss.item())\n",
    "    if (t % 100 == 0):\n",
    "        print(f't = {t}  loss = {loss.item():.6f}')\n",
    "    \n",
    "    # zero gradients, perform a backward pass, and update the weights\n",
    "    optimizer.zero_grad()\n",
    "    loss.backward()\n",
    "    optimizer.step()\n",
    "    \n",
    "    # iterate counter\n",
    "    t += 1"
   ]
  },
  {
   "cell_type": "code",
   "execution_count": null,
   "id": "b5478992-8901-4547-adc6-8ed6eabb94a3",
   "metadata": {},
   "outputs": [],
   "source": [
    "# test model\n",
    "test(model, testing_dataloader, depth, batch_size, print_accuracy=True)"
   ]
  }
 ],
 "metadata": {
  "kernelspec": {
   "display_name": "Python 3 (ipykernel)",
   "language": "python",
   "name": "python3"
  },
  "language_info": {
   "codemirror_mode": {
    "name": "ipython",
    "version": 3
   },
   "file_extension": ".py",
   "mimetype": "text/x-python",
   "name": "python",
   "nbconvert_exporter": "python",
   "pygments_lexer": "ipython3",
   "version": "3.8.12"
  }
 },
 "nbformat": 4,
 "nbformat_minor": 5
}
