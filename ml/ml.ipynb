{
 "cells": [
  {
   "cell_type": "code",
   "execution_count": 2,
   "id": "c77c1f9a-2a9e-4c46-ae7f-002f215ff2f9",
   "metadata": {},
   "outputs": [],
   "source": [
    "from addition_dataset import GroupAddition"
   ]
  },
  {
   "cell_type": "code",
   "execution_count": null,
   "id": "434967ad-03bc-412f-8711-b57cacc36dd9",
   "metadata": {},
   "outputs": [],
   "source": [
    "data = GroupAddition("
   ]
  }
 ],
 "metadata": {
  "kernelspec": {
   "display_name": "Python 3 (ipykernel)",
   "language": "python",
   "name": "python3"
  },
  "language_info": {
   "codemirror_mode": {
    "name": "ipython",
    "version": 3
   },
   "file_extension": ".py",
   "mimetype": "text/x-python",
   "name": "python",
   "nbconvert_exporter": "python",
   "pygments_lexer": "ipython3",
   "version": "3.8.12"
  }
 },
 "nbformat": 4,
 "nbformat_minor": 5
}
