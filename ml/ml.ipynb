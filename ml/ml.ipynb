{
 "cells": [
  {
   "cell_type": "code",
   "execution_count": 1,
   "id": "c77c1f9a-2a9e-4c46-ae7f-002f215ff2f9",
   "metadata": {},
   "outputs": [],
   "source": [
    "import numpy as np\n",
    "import matplotlib.pyplot as plt\n",
    "import seaborn as sns\n",
    "from itertools import product\n",
    "import random\n",
    "import math\n",
    "import pickle\n",
    "from tqdm.notebook import tqdm_notebook\n",
    "import sys\n",
    "import torch\n",
    "import torch.nn as nn\n",
    "import torch.nn.functional as F\n",
    "sys.path.append('../')\n",
    "import fn\n",
    "from addition_dataset import GroupAddition"
   ]
  },
  {
   "cell_type": "code",
   "execution_count": 2,
   "id": "46e1c632-414c-46b3-a7c1-bcdf9d06f54b",
   "metadata": {
    "tags": []
   },
   "outputs": [],
   "source": [
    "%load_ext autoreload\n",
    "%autoreload 2"
   ]
  },
  {
   "cell_type": "markdown",
   "id": "0cb94066-33ea-4bbb-8d4c-33aebccfa958",
   "metadata": {},
   "source": [
    "## Data Preparation"
   ]
  },
  {
   "cell_type": "code",
   "execution_count": 3,
   "id": "4b537415-1d10-4cf3-9071-22fecf420b73",
   "metadata": {},
   "outputs": [],
   "source": [
    "def prepare_data(b, depth, table, batch_size=16, num_passes=1000, split=0.9):\n",
    "    \n",
    "    # Get indices of training and testing data\n",
    "    N = b**depth\n",
    "    ids = random.sample(range(N), math.ceil(split * N))\n",
    "    heldout_ids = set(range(N)) - set(ids)\n",
    "    \n",
    "    # Create training dataset and dataloader\n",
    "    training_dataset = GroupAddition(table, depth, ids=ids, interleaved=True, digit_order='reversed')\n",
    "    training_dataset = torch.utils.data.ConcatDataset([training_dataset] * num_passes)\n",
    "    training_dataloader = torch.utils.data.DataLoader(training_dataset, batch_size=batch_size, shuffle=True)\n",
    "    \n",
    "    # Create testing dataset and dataloader\n",
    "    testing_dataset = GroupAddition(table, depth, ids=heldout_ids, interleaved=True, digit_order='reversed')\n",
    "    testing_dataset = torch.utils.data.ConcatDataset([testing_dataset] * num_passes)\n",
    "    testing_dataloader = torch.utils.data.DataLoader(testing_dataset, batch_size=batch_size, shuffle=True)\n",
    "\n",
    "    return training_dataloader, testing_dataloader"
   ]
  },
  {
   "cell_type": "markdown",
   "id": "88edca88-f9c6-4f30-8d67-7d88ce206ac3",
   "metadata": {},
   "source": [
    "## LSTM"
   ]
  },
  {
   "cell_type": "markdown",
   "id": "c52ad8d3-1ba6-4427-bfd5-f953a2af70f3",
   "metadata": {},
   "source": [
    "## Definitions"
   ]
  },
  {
   "cell_type": "markdown",
   "id": "b55fd157-1bd9-48b5-8777-947346ed2d11",
   "metadata": {},
   "source": [
    "### Model and loss function"
   ]
  },
  {
   "cell_type": "code",
   "execution_count": 4,
   "id": "2044b98f-1d03-4eac-af03-b390ba005c1c",
   "metadata": {},
   "outputs": [],
   "source": [
    "# Define model\n",
    "class LSTMModel(nn.Module):\n",
    "    '''Simple LSTM model for testing purposes'''\n",
    "    def __init__(self, b, hidden, layers):\n",
    "        '''Initialize model with specified parameters'''\n",
    "        super().__init__()\n",
    "        self.b = b\n",
    "        self.hidden = hidden\n",
    "        self.layers = layers\n",
    "        self.lstm = nn.LSTM(b, hidden, layers, batch_first=True)\n",
    "        self.linear = nn.Linear(hidden, 1)\n",
    "\n",
    "    def forward(self, X):\n",
    "        '''Return forward-pass including missing values of X'''\n",
    "        X_out, _ = self.lstm(X)\n",
    "        X_out = self.linear(X_out).squeeze()\n",
    "        return X_out"
   ]
  },
  {
   "cell_type": "code",
   "execution_count": 5,
   "id": "2af33aa9-7a42-4e34-a433-d1383fd619b2",
   "metadata": {},
   "outputs": [],
   "source": [
    "def prediction(X_out, ids):\n",
    "    if X_out.dim() == 2:\n",
    "        X_out_and_ids = zip(torch.unbind(X_out), torch.unbind(ids))\n",
    "        s_out = torch.stack([X_out[ids] for X_out, ids in X_out_and_ids])\n",
    "    else:\n",
    "        s_out = X[ids]\n",
    "    return s_out"
   ]
  },
  {
   "cell_type": "code",
   "execution_count": 6,
   "id": "63add8ce-fab3-4d53-af88-ed8a60a7c3cc",
   "metadata": {},
   "outputs": [],
   "source": [
    "class Loss(nn.Module):\n",
    "    def __init__(self):\n",
    "        super().__init__()\n",
    "\n",
    "    def forward(self, X_out, s, ids):\n",
    "        MSE = nn.MSELoss()\n",
    "        s_out = prediction(X_out, ids)\n",
    "        loss = MSE(s_out, s)\n",
    "        return loss"
   ]
  },
  {
   "cell_type": "markdown",
   "id": "ce717502-3ef2-4d2c-adf0-aded96ab6736",
   "metadata": {},
   "source": [
    "### Training and testing loops"
   ]
  },
  {
   "cell_type": "code",
   "execution_count": 7,
   "id": "d8c0867f-0a24-496d-8beb-1b2e7f70f8ea",
   "metadata": {},
   "outputs": [],
   "source": [
    "def train(model, training_dataloader, print_losses=True):\n",
    "\n",
    "    # Initialize variables\n",
    "    losses = []\n",
    "    t = 0\n",
    "\n",
    "    # Training loop\n",
    "    for batch_idx, (X, s, ids) in enumerate(training_dataloader):\n",
    "        \n",
    "        # Compute, store, and print loss\n",
    "        loss = criterion(model(X), s.float(), ids)\n",
    "        losses.append(loss.item())\n",
    "        if print_losses and (t % 100 == 0):\n",
    "            print(f't = {t}  loss = {loss.item():.6f}')\n",
    "        \n",
    "        # Zero gradients, perform a backward pass, and update the weights\n",
    "        optimizer.zero_grad()\n",
    "        loss.backward()\n",
    "        optimizer.step()\n",
    "        \n",
    "        # Iterate counter\n",
    "        t += 1\n",
    "\n",
    "    return losses"
   ]
  },
  {
   "cell_type": "code",
   "execution_count": 8,
   "id": "d21421f6-add5-4340-b7bb-99ff5853e11a",
   "metadata": {},
   "outputs": [],
   "source": [
    "# Test model\n",
    "def test(model, testing_dataloader, print_accuracy=True):\n",
    "    \n",
    "    with torch.no_grad():\n",
    "        \n",
    "        # Set model to evaluation mode\n",
    "        model.eval()\n",
    "    \n",
    "        # Perform evaluation\n",
    "        total_correct = 0\n",
    "        total_samples = 0\n",
    "        for batch_idx, (X, s, ids) in enumerate(testing_dataloader):\n",
    "    \n",
    "            # Forward pass\n",
    "            X_out = model(X)\n",
    "            s_out = prediction(X_out, ids)\n",
    "            s_out = torch.round(s_out)\n",
    "    \n",
    "            # Calculate accuracy\n",
    "            total_correct += ((s_out == s).sum(1) == depth).sum().item()\n",
    "            total_samples += batch_size\n",
    "    \n",
    "        accuracy = total_correct / total_samples\n",
    "        if print_accuracy:\n",
    "            print(f'Accuracy on testing set: {accuracy:.4f}')"
   ]
  },
  {
   "cell_type": "markdown",
   "id": "a3d7146a-dd51-4fa2-bb77-f9bb06d8e382",
   "metadata": {},
   "source": [
    "### Visualization"
   ]
  },
  {
   "cell_type": "code",
   "execution_count": 35,
   "id": "864b3cef-e275-4b1c-9e36-89c26fdc3284",
   "metadata": {},
   "outputs": [],
   "source": [
    "def smooth(losses, size=10):\n",
    "    kernel = np.ones(size) / size\n",
    "    smoothed_losses = np.convolve(losses, kernel, mode='same')\n",
    "    return smoothed_losses"
   ]
  },
  {
   "cell_type": "code",
   "execution_count": 48,
   "id": "1cd5c9da-585d-41c4-b56c-70cffb8e266c",
   "metadata": {},
   "outputs": [],
   "source": [
    "def plot_loss(all_losses, size=10):\n",
    "    if len(all_losses) > 1:\n",
    "        alpha = 0.5\n",
    "    for c, losses in all_losses.items():\n",
    "        plt.plot(smooth(losses, size=size), alpha=alpha, label=sorted(c)[0])\n",
    "    if len(all_losses) > 1:\n",
    "        plt.legend()\n",
    "    plt.title(f'Epoch vs. Loss')\n",
    "    plt.xlabel('Epoch')\n",
    "    plt.ylabel('Loss (MSE)')\n",
    "    plt.show()"
   ]
  },
  {
   "cell_type": "markdown",
   "id": "336c5e41-96cf-4495-8a97-45c17fbc6d57",
   "metadata": {},
   "source": [
    "## Execute"
   ]
  },
  {
   "cell_type": "code",
   "execution_count": 42,
   "id": "6a36bb36-17af-41d2-9302-e8fc47f15a19",
   "metadata": {},
   "outputs": [
    {
     "name": "stdout",
     "output_type": "stream",
     "text": [
      "((0, 0, 2, 2, 4), (0, 1, 4, 0, 3), (0, 2, 1, 3, 2), (0, 3, 3, 1, 1), (0, 4, 0, 4, 0))\n",
      "Accuracy on testing set: 0.9621\n",
      "\n",
      "((0, 0, 4, 3, 2), (0, 1, 1, 1, 1), (0, 2, 3, 4, 0), (0, 3, 0, 2, 4), (0, 4, 2, 0, 3))\n",
      "Accuracy on testing set: 0.9673\n",
      "\n",
      "((0, 0, 0, 3, 3), (0, 1, 2, 1, 2), (0, 2, 4, 4, 1), (0, 3, 1, 2, 0), (0, 4, 3, 0, 4))\n",
      "Accuracy on testing set: 0.9858\n",
      "\n",
      "((0, 0, 0, 0, 0), (0, 1, 2, 3, 4), (0, 2, 4, 1, 3), (0, 3, 1, 4, 2), (0, 4, 3, 2, 1))\n",
      "Accuracy on testing set: 0.9651\n",
      "\n"
     ]
    }
   ],
   "source": [
    "# Specify base, depth, and batch size\n",
    "b = 5\n",
    "depth = 3\n",
    "batch_size = 16\n",
    "\n",
    "# Get carry tables for base\n",
    "with open('../pickles/all_tables.pickle', 'rb') as f:\n",
    "    all_tables = pickle.load(f)\n",
    "tables = all_tables[b]\n",
    "\n",
    "# Train model for each table\n",
    "all_losses = {}\n",
    "for c, table in tables.items():\n",
    "\n",
    "    # Get dataloaders\n",
    "    training_dataloader, testing_dataloader = prepare_data(b, depth, table, batch_size=batch_size)\n",
    "    \n",
    "    # Initialize model\n",
    "    model = LSTMModel(b, b, 2)\n",
    "    \n",
    "    # Define criterion and optimizer\n",
    "    criterion = Loss()\n",
    "    optimizer = torch.optim.Adam(model.parameters(), lr=0.01)\n",
    "\n",
    "    # Train and test model\n",
    "    losses = train(model, training_dataloader, print_losses=False)\n",
    "    print(c)\n",
    "    test(model, testing_dataloader, print_accuracy=True)\n",
    "    print()\n",
    "    all_losses[c] = losses"
   ]
  },
  {
   "cell_type": "code",
   "execution_count": 49,
   "id": "42d55d6e-df5b-48cb-94ca-64fa2bc10315",
   "metadata": {},
   "outputs": [
    {
     "data": {
      "image/png": "[encoded data removed]",
      "text/plain": [
       "<Figure size 640x480 with 1 Axes>"
      ]
     },
     "metadata": {},
     "output_type": "display_data"
    }
   ],
   "source": [
    "# Plot losses\n",
    "plot_loss(all_losses, size=4)"
   ]
  },
  {
   "cell_type": "markdown",
   "id": "48306688-e6dd-4a1b-b853-433b6e8fbd1a",
   "metadata": {},
   "source": [
    "## Transformer"
   ]
  },
  {
   "cell_type": "code",
   "execution_count": null,
   "id": "2b4cfcad-e187-4682-aa01-932d9045f01e",
   "metadata": {},
   "outputs": [],
   "source": []
  }
 ],
 "metadata": {
  "kernelspec": {
   "display_name": "Python 3 (ipykernel)",
   "language": "python",
   "name": "python3"
  },
  "language_info": {
   "codemirror_mode": {
    "name": "ipython",
    "version": 3
   },
   "file_extension": ".py",
   "mimetype": "text/x-python",
   "name": "python",
   "nbconvert_exporter": "python",
   "pygments_lexer": "ipython3",
   "version": "3.8.12"
  }
 },
 "nbformat": 4,
 "nbformat_minor": 5
}
